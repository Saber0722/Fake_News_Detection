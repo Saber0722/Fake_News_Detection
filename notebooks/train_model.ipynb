{
 "cells": [
  {
   "cell_type": "markdown",
   "id": "03efb0b6",
   "metadata": {},
   "source": [
    "## Training a Logistic Regression Model "
   ]
  },
  {
   "cell_type": "code",
   "execution_count": 34,
   "id": "6b50ea53",
   "metadata": {},
   "outputs": [],
   "source": [
    "# imports\n",
    "import seaborn as sns\n",
    "import matplotlib.pyplot as plt\n",
    "import pandas as pd\n",
    "import numpy as np\n",
    "from sklearn.feature_extraction.text import TfidfVectorizer\n",
    "from sklearn.preprocessing import StandardScaler\n",
    "from sklearn.linear_model import LogisticRegression\n",
    "from sklearn.model_selection import train_test_split\n",
    "from sklearn.metrics import confusion_matrix, classification_report, accuracy_score\n",
    "import joblib\n"
   ]
  },
  {
   "cell_type": "code",
   "execution_count": 30,
   "id": "d2b67e0b",
   "metadata": {},
   "outputs": [
    {
     "data": {
      "text/html": [
       "<div>\n",
       "<style scoped>\n",
       "    .dataframe tbody tr th:only-of-type {\n",
       "        vertical-align: middle;\n",
       "    }\n",
       "\n",
       "    .dataframe tbody tr th {\n",
       "        vertical-align: top;\n",
       "    }\n",
       "\n",
       "    .dataframe thead th {\n",
       "        text-align: right;\n",
       "    }\n",
       "</style>\n",
       "<table border=\"1\" class=\"dataframe\">\n",
       "  <thead>\n",
       "    <tr style=\"text-align: right;\">\n",
       "      <th></th>\n",
       "      <th>Title</th>\n",
       "      <th>Text</th>\n",
       "      <th>Subject</th>\n",
       "      <th>Date</th>\n",
       "      <th>Label</th>\n",
       "      <th>Year</th>\n",
       "      <th>Month</th>\n",
       "    </tr>\n",
       "  </thead>\n",
       "  <tbody>\n",
       "    <tr>\n",
       "      <th>0</th>\n",
       "      <td>merkel juncker discuss catalan crisi eu offici</td>\n",
       "      <td>brussel reuter  german chancellor angela merke...</td>\n",
       "      <td>worldnews</td>\n",
       "      <td>2017-10-07</td>\n",
       "      <td>0</td>\n",
       "      <td>2017.0</td>\n",
       "      <td>October</td>\n",
       "    </tr>\n",
       "    <tr>\n",
       "      <th>1</th>\n",
       "      <td>liber hack kati couric say fake news “tear  ap...</td>\n",
       "      <td>kati couric wolf sheep cloth dan rather brian ...</td>\n",
       "      <td>left-news</td>\n",
       "      <td>2017-07-22</td>\n",
       "      <td>1</td>\n",
       "      <td>2017.0</td>\n",
       "      <td>July</td>\n",
       "    </tr>\n",
       "    <tr>\n",
       "      <th>2</th>\n",
       "      <td>trump right audit reveal state dept cybersecur...</td>\n",
       "      <td>new document appear show pattern deterior secu...</td>\n",
       "      <td>politics</td>\n",
       "      <td>2015-10-19</td>\n",
       "      <td>1</td>\n",
       "      <td>2015.0</td>\n",
       "      <td>October</td>\n",
       "    </tr>\n",
       "    <tr>\n",
       "      <th>3</th>\n",
       "      <td>clay aiken say ‘fg dumbass’ think trump wasn’...</td>\n",
       "      <td>former  american idol  finalist  celebr appren...</td>\n",
       "      <td>News</td>\n",
       "      <td>2017-08-16</td>\n",
       "      <td>1</td>\n",
       "      <td>2017.0</td>\n",
       "      <td>August</td>\n",
       "    </tr>\n",
       "    <tr>\n",
       "      <th>4</th>\n",
       "      <td>us militia gird troubl presidenti elect near</td>\n",
       "      <td>jackson ga reuter  georgia countri road camou...</td>\n",
       "      <td>politicsNews</td>\n",
       "      <td>2016-11-02</td>\n",
       "      <td>0</td>\n",
       "      <td>2016.0</td>\n",
       "      <td>November</td>\n",
       "    </tr>\n",
       "  </tbody>\n",
       "</table>\n",
       "</div>"
      ],
      "text/plain": [
       "                                               Title  ...     Month\n",
       "0     merkel juncker discuss catalan crisi eu offici  ...   October\n",
       "1  liber hack kati couric say fake news “tear  ap...  ...      July\n",
       "2  trump right audit reveal state dept cybersecur...  ...   October\n",
       "3   clay aiken say ‘fg dumbass’ think trump wasn’...  ...    August\n",
       "4       us militia gird troubl presidenti elect near  ...  November\n",
       "\n",
       "[5 rows x 7 columns]"
      ]
     },
     "execution_count": 30,
     "metadata": {},
     "output_type": "execute_result"
    }
   ],
   "source": [
    "# load the dataset\n",
    "df=pd.read_csv('../data/cleaned_data.csv')\n",
    "df.head()"
   ]
  },
  {
   "cell_type": "code",
   "execution_count": 31,
   "id": "b4c9907a",
   "metadata": {},
   "outputs": [
    {
     "data": {
      "text/html": [
       "<div>\n",
       "<style scoped>\n",
       "    .dataframe tbody tr th:only-of-type {\n",
       "        vertical-align: middle;\n",
       "    }\n",
       "\n",
       "    .dataframe tbody tr th {\n",
       "        vertical-align: top;\n",
       "    }\n",
       "\n",
       "    .dataframe thead th {\n",
       "        text-align: right;\n",
       "    }\n",
       "</style>\n",
       "<table border=\"1\" class=\"dataframe\">\n",
       "  <thead>\n",
       "    <tr style=\"text-align: right;\">\n",
       "      <th></th>\n",
       "      <th>Title</th>\n",
       "      <th>neg</th>\n",
       "      <th>neu</th>\n",
       "      <th>pos</th>\n",
       "      <th>compound</th>\n",
       "      <th>Text</th>\n",
       "      <th>Subject</th>\n",
       "      <th>Date</th>\n",
       "      <th>Label</th>\n",
       "      <th>Year</th>\n",
       "      <th>Month</th>\n",
       "      <th>sentiment</th>\n",
       "    </tr>\n",
       "  </thead>\n",
       "  <tbody>\n",
       "    <tr>\n",
       "      <th>0</th>\n",
       "      <td>merkel juncker discuss catalan crisi eu offici</td>\n",
       "      <td>0.024</td>\n",
       "      <td>0.940</td>\n",
       "      <td>0.036</td>\n",
       "      <td>-0.0000</td>\n",
       "      <td>brussel reuter  german chancellor angela merke...</td>\n",
       "      <td>worldnews</td>\n",
       "      <td>2017-10-07</td>\n",
       "      <td>0</td>\n",
       "      <td>2017.0</td>\n",
       "      <td>October</td>\n",
       "      <td>neutral</td>\n",
       "    </tr>\n",
       "    <tr>\n",
       "      <th>1</th>\n",
       "      <td>liber hack kati couric say fake news “tear  ap...</td>\n",
       "      <td>0.162</td>\n",
       "      <td>0.782</td>\n",
       "      <td>0.056</td>\n",
       "      <td>-0.9906</td>\n",
       "      <td>kati couric wolf sheep cloth dan rather brian ...</td>\n",
       "      <td>left-news</td>\n",
       "      <td>2017-07-22</td>\n",
       "      <td>1</td>\n",
       "      <td>2017.0</td>\n",
       "      <td>July</td>\n",
       "      <td>negative</td>\n",
       "    </tr>\n",
       "    <tr>\n",
       "      <th>2</th>\n",
       "      <td>liber hack kati couric say fake news “tear  ap...</td>\n",
       "      <td>0.162</td>\n",
       "      <td>0.782</td>\n",
       "      <td>0.056</td>\n",
       "      <td>-0.9906</td>\n",
       "      <td>kati couric wolf sheep cloth dan rather brian ...</td>\n",
       "      <td>politics</td>\n",
       "      <td>2017-07-22</td>\n",
       "      <td>1</td>\n",
       "      <td>2017.0</td>\n",
       "      <td>July</td>\n",
       "      <td>negative</td>\n",
       "    </tr>\n",
       "    <tr>\n",
       "      <th>3</th>\n",
       "      <td>trump right audit reveal state dept cybersecur...</td>\n",
       "      <td>0.077</td>\n",
       "      <td>0.923</td>\n",
       "      <td>0.000</td>\n",
       "      <td>-0.7430</td>\n",
       "      <td>new document appear show pattern deterior secu...</td>\n",
       "      <td>politics</td>\n",
       "      <td>2015-10-19</td>\n",
       "      <td>1</td>\n",
       "      <td>2015.0</td>\n",
       "      <td>October</td>\n",
       "      <td>negative</td>\n",
       "    </tr>\n",
       "    <tr>\n",
       "      <th>4</th>\n",
       "      <td>trump right audit reveal state dept cybersecur...</td>\n",
       "      <td>0.077</td>\n",
       "      <td>0.923</td>\n",
       "      <td>0.000</td>\n",
       "      <td>-0.7430</td>\n",
       "      <td>new document appear show pattern deterior secu...</td>\n",
       "      <td>Government News</td>\n",
       "      <td>2015-10-19</td>\n",
       "      <td>1</td>\n",
       "      <td>2015.0</td>\n",
       "      <td>October</td>\n",
       "      <td>negative</td>\n",
       "    </tr>\n",
       "  </tbody>\n",
       "</table>\n",
       "</div>"
      ],
      "text/plain": [
       "                                               Title    neg  ...    Month  sentiment\n",
       "0     merkel juncker discuss catalan crisi eu offici  0.024  ...  October    neutral\n",
       "1  liber hack kati couric say fake news “tear  ap...  0.162  ...     July   negative\n",
       "2  liber hack kati couric say fake news “tear  ap...  0.162  ...     July   negative\n",
       "3  trump right audit reveal state dept cybersecur...  0.077  ...  October   negative\n",
       "4  trump right audit reveal state dept cybersecur...  0.077  ...  October   negative\n",
       "\n",
       "[5 rows x 12 columns]"
      ]
     },
     "execution_count": 31,
     "metadata": {},
     "output_type": "execute_result"
    }
   ],
   "source": [
    "# load vaders\n",
    "df_vader=pd.read_csv('../data/vaders.csv')\n",
    "df_vader.head()"
   ]
  },
  {
   "cell_type": "code",
   "execution_count": 32,
   "id": "f8375f8f",
   "metadata": {},
   "outputs": [],
   "source": [
    "df1=df_vader.__deepcopy__()"
   ]
  },
  {
   "cell_type": "code",
   "execution_count": 33,
   "id": "c978083f",
   "metadata": {},
   "outputs": [],
   "source": [
    "df1['content']=df1['Title'] + ' ' + df1['Text']\n",
    "X = df1['content']\n",
    "y = df1['Label']"
   ]
  },
  {
   "cell_type": "code",
   "execution_count": 35,
   "id": "a3444bd2",
   "metadata": {},
   "outputs": [],
   "source": [
    "# Converting text to numerical data using TF-IDF Vectorizer\n",
    "# Handle missing values in X by filling NaN with an empty string\n",
    "# This is important because TF-IDF cannot handle NaN values\n",
    "\n",
    "X = X.fillna('')\n",
    "tfidf = TfidfVectorizer()\n",
    "X_tfidf = tfidf.fit_transform(X)"
   ]
  },
  {
   "cell_type": "code",
   "execution_count": 36,
   "id": "1e7200c4",
   "metadata": {},
   "outputs": [
    {
     "name": "stdout",
     "output_type": "stream",
     "text": [
      "Accuracy: 0.9893712239874692\n",
      "Classification Report:\n",
      "               precision    recall  f1-score   support\n",
      "\n",
      "           0       0.99      0.99      0.99      4235\n",
      "           1       0.99      0.99      0.99      4703\n",
      "\n",
      "    accuracy                           0.99      8938\n",
      "   macro avg       0.99      0.99      0.99      8938\n",
      "weighted avg       0.99      0.99      0.99      8938\n",
      "\n"
     ]
    },
    {
     "data": {
      "image/png": "[encoded data removed]",
      "text/plain": [
       "<Figure size 640x480 with 2 Axes>"
      ]
     },
     "metadata": {},
     "output_type": "display_data"
    }
   ],
   "source": [
    "# split the data into training and testing sets\n",
    "X_train, X_test, y_train, y_test = train_test_split(X_tfidf, y, test_size=0.2, random_state=42)\n",
    "\n",
    "# Initialize the Logistic Regression model\n",
    "model = LogisticRegression(max_iter=1000)\n",
    "\n",
    "# Fit the model on the training data\n",
    "model.fit(X_train, y_train)\n",
    "\n",
    "# Make predictions on the test data\n",
    "y_pred = model.predict(X_test)\n",
    "\n",
    "# Evaluate the model\n",
    "print(\"Accuracy:\", accuracy_score(y_test, y_pred))\n",
    "print(\"Classification Report:\\n\", classification_report(y_test, y_pred))\n",
    "\n",
    "# Confusion Matrix\n",
    "cm = confusion_matrix(y_test, y_pred)\n",
    "sns.heatmap(cm, annot=True, fmt='d', cmap='Blues')\n",
    "\n",
    "\n",
    "plt.xlabel('Predicted')\n",
    "plt.ylabel('True')\n",
    "plt.title('Confusion Matrix')\n",
    "plt.savefig('../Outputs/plots/confusion_matrix.png')\n",
    "plt.show()\n"
   ]
  },
  {
   "cell_type": "code",
   "execution_count": 37,
   "id": "f0283d25",
   "metadata": {},
   "outputs": [
    {
     "data": {
      "text/plain": [
       "['../Outputs/models/tfidf_vectorizer.pkl']"
      ]
     },
     "execution_count": 37,
     "metadata": {},
     "output_type": "execute_result"
    }
   ],
   "source": [
    "# save the model and vectorizer\n",
    "\n",
    "joblib.dump(model, '../Outputs/models/logistic_regression_model.pkl')\n",
    "joblib.dump(tfidf, '../Outputs/models/tfidf_vectorizer.pkl')"
   ]
  },
  {
   "cell_type": "markdown",
   "id": "6532e909",
   "metadata": {},
   "source": [
    "## Conclusions\n",
    "- The logistic regression model achieved an accuracy of 0.99 on the test set.\n",
    "- The model performed well on both the training and test sets, indicating that it is not overfitting."
   ]
  }
 ],
 "metadata": {
  "kernelspec": {
   "display_name": "Python 3",
   "language": "python",
   "name": "python3"
  },
  "language_info": {
   "codemirror_mode": {
    "name": "ipython",
    "version": 3
   },
   "file_extension": ".py",
   "mimetype": "text/x-python",
   "name": "python",
   "nbconvert_exporter": "python",
   "pygments_lexer": "ipython3",
   "version": "3.11.9"
  }
 },
 "nbformat": 4,
 "nbformat_minor": 5
}
