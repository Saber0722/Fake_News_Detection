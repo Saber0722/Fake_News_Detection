{
 "cells": [
  {
   "cell_type": "markdown",
   "id": "da56a2d1",
   "metadata": {},
   "source": [
    "## Data preprocessing for the Fake News Detection"
   ]
  },
  {
   "cell_type": "code",
   "execution_count": 40,
   "id": "a3c9aa6a",
   "metadata": {},
   "outputs": [],
   "source": [
    "# imports\n",
    "import nltk\n",
    "import pandas as pd\n",
    "import numpy as np\n",
    "import re\n",
    "import matplotlib.pyplot as plt\n",
    "import seaborn as sns\n",
    "from nltk.corpus import stopwords\n",
    "from nltk.stem import PorterStemmer\n"
   ]
  },
  {
   "cell_type": "code",
   "execution_count": 26,
   "id": "543dd6ad",
   "metadata": {},
   "outputs": [
    {
     "data": {
      "text/html": [
       "<div>\n",
       "<style scoped>\n",
       "    .dataframe tbody tr th:only-of-type {\n",
       "        vertical-align: middle;\n",
       "    }\n",
       "\n",
       "    .dataframe tbody tr th {\n",
       "        vertical-align: top;\n",
       "    }\n",
       "\n",
       "    .dataframe thead th {\n",
       "        text-align: right;\n",
       "    }\n",
       "</style>\n",
       "<table border=\"1\" class=\"dataframe\">\n",
       "  <thead>\n",
       "    <tr style=\"text-align: right;\">\n",
       "      <th></th>\n",
       "      <th>title</th>\n",
       "      <th>text</th>\n",
       "      <th>subject</th>\n",
       "      <th>date</th>\n",
       "    </tr>\n",
       "  </thead>\n",
       "  <tbody>\n",
       "    <tr>\n",
       "      <th>0</th>\n",
       "      <td>Donald Trump Sends Out Embarrassing New Year’...</td>\n",
       "      <td>Donald Trump just couldn t wish all Americans ...</td>\n",
       "      <td>News</td>\n",
       "      <td>December 31, 2017</td>\n",
       "    </tr>\n",
       "    <tr>\n",
       "      <th>1</th>\n",
       "      <td>Drunk Bragging Trump Staffer Started Russian ...</td>\n",
       "      <td>House Intelligence Committee Chairman Devin Nu...</td>\n",
       "      <td>News</td>\n",
       "      <td>December 31, 2017</td>\n",
       "    </tr>\n",
       "    <tr>\n",
       "      <th>2</th>\n",
       "      <td>Sheriff David Clarke Becomes An Internet Joke...</td>\n",
       "      <td>On Friday, it was revealed that former Milwauk...</td>\n",
       "      <td>News</td>\n",
       "      <td>December 30, 2017</td>\n",
       "    </tr>\n",
       "    <tr>\n",
       "      <th>3</th>\n",
       "      <td>Trump Is So Obsessed He Even Has Obama’s Name...</td>\n",
       "      <td>On Christmas day, Donald Trump announced that ...</td>\n",
       "      <td>News</td>\n",
       "      <td>December 29, 2017</td>\n",
       "    </tr>\n",
       "    <tr>\n",
       "      <th>4</th>\n",
       "      <td>Pope Francis Just Called Out Donald Trump Dur...</td>\n",
       "      <td>Pope Francis used his annual Christmas Day mes...</td>\n",
       "      <td>News</td>\n",
       "      <td>December 25, 2017</td>\n",
       "    </tr>\n",
       "  </tbody>\n",
       "</table>\n",
       "</div>"
      ],
      "text/plain": [
       "                                               title  \\\n",
       "0   Donald Trump Sends Out Embarrassing New Year’...   \n",
       "1   Drunk Bragging Trump Staffer Started Russian ...   \n",
       "2   Sheriff David Clarke Becomes An Internet Joke...   \n",
       "3   Trump Is So Obsessed He Even Has Obama’s Name...   \n",
       "4   Pope Francis Just Called Out Donald Trump Dur...   \n",
       "\n",
       "                                                text subject  \\\n",
       "0  Donald Trump just couldn t wish all Americans ...    News   \n",
       "1  House Intelligence Committee Chairman Devin Nu...    News   \n",
       "2  On Friday, it was revealed that former Milwauk...    News   \n",
       "3  On Christmas day, Donald Trump announced that ...    News   \n",
       "4  Pope Francis used his annual Christmas Day mes...    News   \n",
       "\n",
       "                date  \n",
       "0  December 31, 2017  \n",
       "1  December 31, 2017  \n",
       "2  December 30, 2017  \n",
       "3  December 29, 2017  \n",
       "4  December 25, 2017  "
      ]
     },
     "execution_count": 26,
     "metadata": {},
     "output_type": "execute_result"
    }
   ],
   "source": [
    "fake=pd.read_csv('../data/fake.csv')\n",
    "fake.head()"
   ]
  },
  {
   "cell_type": "code",
   "execution_count": 27,
   "id": "57041bca",
   "metadata": {},
   "outputs": [
    {
     "name": "stdout",
     "output_type": "stream",
     "text": [
      "<class 'pandas.core.frame.DataFrame'>\n",
      "RangeIndex: 23481 entries, 0 to 23480\n",
      "Data columns (total 4 columns):\n",
      " #   Column   Non-Null Count  Dtype \n",
      "---  ------   --------------  ----- \n",
      " 0   title    23481 non-null  object\n",
      " 1   text     23481 non-null  object\n",
      " 2   subject  23481 non-null  object\n",
      " 3   date     23481 non-null  object\n",
      "dtypes: object(4)\n",
      "memory usage: 733.9+ KB\n"
     ]
    }
   ],
   "source": [
    "fake.info()"
   ]
  },
  {
   "cell_type": "code",
   "execution_count": 28,
   "id": "c3bb1835",
   "metadata": {},
   "outputs": [
    {
     "data": {
      "text/plain": [
       "3"
      ]
     },
     "execution_count": 28,
     "metadata": {},
     "output_type": "execute_result"
    }
   ],
   "source": [
    "fake.duplicated().sum()"
   ]
  },
  {
   "cell_type": "code",
   "execution_count": 29,
   "id": "e59ae987",
   "metadata": {},
   "outputs": [],
   "source": [
    "fake.drop_duplicates(inplace=True)"
   ]
  },
  {
   "cell_type": "code",
   "execution_count": 30,
   "id": "b3dbbd6b",
   "metadata": {},
   "outputs": [
    {
     "data": {
      "text/plain": [
       "title      0\n",
       "text       0\n",
       "subject    0\n",
       "date       0\n",
       "dtype: int64"
      ]
     },
     "execution_count": 30,
     "metadata": {},
     "output_type": "execute_result"
    }
   ],
   "source": [
    "fake.isnull().sum()"
   ]
  },
  {
   "cell_type": "code",
   "execution_count": 31,
   "id": "fbdf5534",
   "metadata": {},
   "outputs": [
    {
     "data": {
      "text/html": [
       "<div>\n",
       "<style scoped>\n",
       "    .dataframe tbody tr th:only-of-type {\n",
       "        vertical-align: middle;\n",
       "    }\n",
       "\n",
       "    .dataframe tbody tr th {\n",
       "        vertical-align: top;\n",
       "    }\n",
       "\n",
       "    .dataframe thead th {\n",
       "        text-align: right;\n",
       "    }\n",
       "</style>\n",
       "<table border=\"1\" class=\"dataframe\">\n",
       "  <thead>\n",
       "    <tr style=\"text-align: right;\">\n",
       "      <th></th>\n",
       "      <th>title</th>\n",
       "      <th>text</th>\n",
       "      <th>subject</th>\n",
       "      <th>date</th>\n",
       "    </tr>\n",
       "  </thead>\n",
       "  <tbody>\n",
       "    <tr>\n",
       "      <th>0</th>\n",
       "      <td>As U.S. budget fight looms, Republicans flip t...</td>\n",
       "      <td>WASHINGTON (Reuters) - The head of a conservat...</td>\n",
       "      <td>politicsNews</td>\n",
       "      <td>December 31, 2017</td>\n",
       "    </tr>\n",
       "    <tr>\n",
       "      <th>1</th>\n",
       "      <td>U.S. military to accept transgender recruits o...</td>\n",
       "      <td>WASHINGTON (Reuters) - Transgender people will...</td>\n",
       "      <td>politicsNews</td>\n",
       "      <td>December 29, 2017</td>\n",
       "    </tr>\n",
       "    <tr>\n",
       "      <th>2</th>\n",
       "      <td>Senior U.S. Republican senator: 'Let Mr. Muell...</td>\n",
       "      <td>WASHINGTON (Reuters) - The special counsel inv...</td>\n",
       "      <td>politicsNews</td>\n",
       "      <td>December 31, 2017</td>\n",
       "    </tr>\n",
       "    <tr>\n",
       "      <th>3</th>\n",
       "      <td>FBI Russia probe helped by Australian diplomat...</td>\n",
       "      <td>WASHINGTON (Reuters) - Trump campaign adviser ...</td>\n",
       "      <td>politicsNews</td>\n",
       "      <td>December 30, 2017</td>\n",
       "    </tr>\n",
       "    <tr>\n",
       "      <th>4</th>\n",
       "      <td>Trump wants Postal Service to charge 'much mor...</td>\n",
       "      <td>SEATTLE/WASHINGTON (Reuters) - President Donal...</td>\n",
       "      <td>politicsNews</td>\n",
       "      <td>December 29, 2017</td>\n",
       "    </tr>\n",
       "  </tbody>\n",
       "</table>\n",
       "</div>"
      ],
      "text/plain": [
       "                                               title  \\\n",
       "0  As U.S. budget fight looms, Republicans flip t...   \n",
       "1  U.S. military to accept transgender recruits o...   \n",
       "2  Senior U.S. Republican senator: 'Let Mr. Muell...   \n",
       "3  FBI Russia probe helped by Australian diplomat...   \n",
       "4  Trump wants Postal Service to charge 'much mor...   \n",
       "\n",
       "                                                text       subject  \\\n",
       "0  WASHINGTON (Reuters) - The head of a conservat...  politicsNews   \n",
       "1  WASHINGTON (Reuters) - Transgender people will...  politicsNews   \n",
       "2  WASHINGTON (Reuters) - The special counsel inv...  politicsNews   \n",
       "3  WASHINGTON (Reuters) - Trump campaign adviser ...  politicsNews   \n",
       "4  SEATTLE/WASHINGTON (Reuters) - President Donal...  politicsNews   \n",
       "\n",
       "                 date  \n",
       "0  December 31, 2017   \n",
       "1  December 29, 2017   \n",
       "2  December 31, 2017   \n",
       "3  December 30, 2017   \n",
       "4  December 29, 2017   "
      ]
     },
     "execution_count": 31,
     "metadata": {},
     "output_type": "execute_result"
    }
   ],
   "source": [
    "true=pd.read_csv('../data/true.csv')\n",
    "true.head()"
   ]
  },
  {
   "cell_type": "code",
   "execution_count": 32,
   "id": "dbaeead8",
   "metadata": {},
   "outputs": [
    {
     "name": "stdout",
     "output_type": "stream",
     "text": [
      "<class 'pandas.core.frame.DataFrame'>\n",
      "RangeIndex: 21417 entries, 0 to 21416\n",
      "Data columns (total 4 columns):\n",
      " #   Column   Non-Null Count  Dtype \n",
      "---  ------   --------------  ----- \n",
      " 0   title    21417 non-null  object\n",
      " 1   text     21417 non-null  object\n",
      " 2   subject  21417 non-null  object\n",
      " 3   date     21417 non-null  object\n",
      "dtypes: object(4)\n",
      "memory usage: 669.4+ KB\n"
     ]
    }
   ],
   "source": [
    "true.info()"
   ]
  },
  {
   "cell_type": "code",
   "execution_count": 33,
   "id": "b328a694",
   "metadata": {},
   "outputs": [
    {
     "data": {
      "text/plain": [
       "title      0\n",
       "text       0\n",
       "subject    0\n",
       "date       0\n",
       "dtype: int64"
      ]
     },
     "execution_count": 33,
     "metadata": {},
     "output_type": "execute_result"
    }
   ],
   "source": [
    "true.isnull().sum()"
   ]
  },
  {
   "cell_type": "code",
   "execution_count": 34,
   "id": "cd185bb9",
   "metadata": {},
   "outputs": [
    {
     "data": {
      "text/plain": [
       "206"
      ]
     },
     "execution_count": 34,
     "metadata": {},
     "output_type": "execute_result"
    }
   ],
   "source": [
    "true.duplicated().sum()"
   ]
  },
  {
   "cell_type": "code",
   "execution_count": 35,
   "id": "49c6c56f",
   "metadata": {},
   "outputs": [],
   "source": [
    "true.drop_duplicates(inplace=True)"
   ]
  },
  {
   "cell_type": "markdown",
   "id": "3e7a30c9",
   "metadata": {},
   "source": [
    "### Feature Engineering"
   ]
  },
  {
   "cell_type": "code",
   "execution_count": 36,
   "id": "8f33a9e3",
   "metadata": {},
   "outputs": [
    {
     "data": {
      "text/html": [
       "<div>\n",
       "<style scoped>\n",
       "    .dataframe tbody tr th:only-of-type {\n",
       "        vertical-align: middle;\n",
       "    }\n",
       "\n",
       "    .dataframe tbody tr th {\n",
       "        vertical-align: top;\n",
       "    }\n",
       "\n",
       "    .dataframe thead th {\n",
       "        text-align: right;\n",
       "    }\n",
       "</style>\n",
       "<table border=\"1\" class=\"dataframe\">\n",
       "  <thead>\n",
       "    <tr style=\"text-align: right;\">\n",
       "      <th></th>\n",
       "      <th>title</th>\n",
       "      <th>text</th>\n",
       "      <th>subject</th>\n",
       "      <th>date</th>\n",
       "      <th>label</th>\n",
       "    </tr>\n",
       "  </thead>\n",
       "  <tbody>\n",
       "    <tr>\n",
       "      <th>0</th>\n",
       "      <td>Merkel, Juncker discuss Catalan crisis: EU off...</td>\n",
       "      <td>BRUSSELS (Reuters) - German Chancellor Angela ...</td>\n",
       "      <td>worldnews</td>\n",
       "      <td>October 7, 2017</td>\n",
       "      <td>0</td>\n",
       "    </tr>\n",
       "    <tr>\n",
       "      <th>1</th>\n",
       "      <td>LIBERAL HACK KATIE COURIC Says Fake News Is “T...</td>\n",
       "      <td>Katie Couric is a wolf in sheep s clothing. Da...</td>\n",
       "      <td>left-news</td>\n",
       "      <td>Jul 22, 2017</td>\n",
       "      <td>1</td>\n",
       "    </tr>\n",
       "    <tr>\n",
       "      <th>2</th>\n",
       "      <td>TRUMP WAS RIGHT! Audit Reveals State Dept. Cyb...</td>\n",
       "      <td>New documents appear to show a pattern of dete...</td>\n",
       "      <td>politics</td>\n",
       "      <td>Oct 19, 2015</td>\n",
       "      <td>1</td>\n",
       "    </tr>\n",
       "    <tr>\n",
       "      <th>3</th>\n",
       "      <td>Clay Aiken Says He Was A ‘F*****g Dumbass’ Fo...</td>\n",
       "      <td>Former  American Idol  finalist and  Celebrity...</td>\n",
       "      <td>News</td>\n",
       "      <td>August 16, 2017</td>\n",
       "      <td>1</td>\n",
       "    </tr>\n",
       "    <tr>\n",
       "      <th>4</th>\n",
       "      <td>U.S. militia girds for trouble as presidential...</td>\n",
       "      <td>JACKSON, Ga. (Reuters) - Down a Georgia count...</td>\n",
       "      <td>politicsNews</td>\n",
       "      <td>November 2, 2016</td>\n",
       "      <td>0</td>\n",
       "    </tr>\n",
       "  </tbody>\n",
       "</table>\n",
       "</div>"
      ],
      "text/plain": [
       "                                               title  \\\n",
       "0  Merkel, Juncker discuss Catalan crisis: EU off...   \n",
       "1  LIBERAL HACK KATIE COURIC Says Fake News Is “T...   \n",
       "2  TRUMP WAS RIGHT! Audit Reveals State Dept. Cyb...   \n",
       "3   Clay Aiken Says He Was A ‘F*****g Dumbass’ Fo...   \n",
       "4  U.S. militia girds for trouble as presidential...   \n",
       "\n",
       "                                                text       subject  \\\n",
       "0  BRUSSELS (Reuters) - German Chancellor Angela ...     worldnews   \n",
       "1  Katie Couric is a wolf in sheep s clothing. Da...     left-news   \n",
       "2  New documents appear to show a pattern of dete...      politics   \n",
       "3  Former  American Idol  finalist and  Celebrity...          News   \n",
       "4   JACKSON, Ga. (Reuters) - Down a Georgia count...  politicsNews   \n",
       "\n",
       "                date  label  \n",
       "0   October 7, 2017       0  \n",
       "1       Jul 22, 2017      1  \n",
       "2       Oct 19, 2015      1  \n",
       "3    August 16, 2017      1  \n",
       "4  November 2, 2016       0  "
      ]
     },
     "execution_count": 36,
     "metadata": {},
     "output_type": "execute_result"
    }
   ],
   "source": [
    "true['label']=0\n",
    "fake['label']=1\n",
    "\n",
    "df=pd.concat([true,fake],axis=0,ignore_index=True)\n",
    "df=df.sample(frac=1,random_state=42).reset_index(drop=True)\n",
    "df.head()"
   ]
  },
  {
   "cell_type": "code",
   "execution_count": 37,
   "id": "b3ddb96c",
   "metadata": {},
   "outputs": [
    {
     "data": {
      "text/html": [
       "<div>\n",
       "<style scoped>\n",
       "    .dataframe tbody tr th:only-of-type {\n",
       "        vertical-align: middle;\n",
       "    }\n",
       "\n",
       "    .dataframe tbody tr th {\n",
       "        vertical-align: top;\n",
       "    }\n",
       "\n",
       "    .dataframe thead th {\n",
       "        text-align: right;\n",
       "    }\n",
       "</style>\n",
       "<table border=\"1\" class=\"dataframe\">\n",
       "  <thead>\n",
       "    <tr style=\"text-align: right;\">\n",
       "      <th></th>\n",
       "      <th>title</th>\n",
       "      <th>text</th>\n",
       "      <th>subject</th>\n",
       "      <th>date</th>\n",
       "      <th>label</th>\n",
       "      <th>Year</th>\n",
       "      <th>Month</th>\n",
       "    </tr>\n",
       "  </thead>\n",
       "  <tbody>\n",
       "    <tr>\n",
       "      <th>0</th>\n",
       "      <td>Merkel, Juncker discuss Catalan crisis: EU off...</td>\n",
       "      <td>BRUSSELS (Reuters) - German Chancellor Angela ...</td>\n",
       "      <td>worldnews</td>\n",
       "      <td>2017-10-07</td>\n",
       "      <td>0</td>\n",
       "      <td>2017.0</td>\n",
       "      <td>October</td>\n",
       "    </tr>\n",
       "    <tr>\n",
       "      <th>1</th>\n",
       "      <td>LIBERAL HACK KATIE COURIC Says Fake News Is “T...</td>\n",
       "      <td>Katie Couric is a wolf in sheep s clothing. Da...</td>\n",
       "      <td>left-news</td>\n",
       "      <td>2017-07-22</td>\n",
       "      <td>1</td>\n",
       "      <td>2017.0</td>\n",
       "      <td>July</td>\n",
       "    </tr>\n",
       "    <tr>\n",
       "      <th>2</th>\n",
       "      <td>TRUMP WAS RIGHT! Audit Reveals State Dept. Cyb...</td>\n",
       "      <td>New documents appear to show a pattern of dete...</td>\n",
       "      <td>politics</td>\n",
       "      <td>2015-10-19</td>\n",
       "      <td>1</td>\n",
       "      <td>2015.0</td>\n",
       "      <td>October</td>\n",
       "    </tr>\n",
       "    <tr>\n",
       "      <th>3</th>\n",
       "      <td>Clay Aiken Says He Was A ‘F*****g Dumbass’ Fo...</td>\n",
       "      <td>Former  American Idol  finalist and  Celebrity...</td>\n",
       "      <td>News</td>\n",
       "      <td>2017-08-16</td>\n",
       "      <td>1</td>\n",
       "      <td>2017.0</td>\n",
       "      <td>August</td>\n",
       "    </tr>\n",
       "    <tr>\n",
       "      <th>4</th>\n",
       "      <td>U.S. militia girds for trouble as presidential...</td>\n",
       "      <td>JACKSON, Ga. (Reuters) - Down a Georgia count...</td>\n",
       "      <td>politicsNews</td>\n",
       "      <td>2016-11-02</td>\n",
       "      <td>0</td>\n",
       "      <td>2016.0</td>\n",
       "      <td>November</td>\n",
       "    </tr>\n",
       "  </tbody>\n",
       "</table>\n",
       "</div>"
      ],
      "text/plain": [
       "                                               title  \\\n",
       "0  Merkel, Juncker discuss Catalan crisis: EU off...   \n",
       "1  LIBERAL HACK KATIE COURIC Says Fake News Is “T...   \n",
       "2  TRUMP WAS RIGHT! Audit Reveals State Dept. Cyb...   \n",
       "3   Clay Aiken Says He Was A ‘F*****g Dumbass’ Fo...   \n",
       "4  U.S. militia girds for trouble as presidential...   \n",
       "\n",
       "                                                text       subject       date  \\\n",
       "0  BRUSSELS (Reuters) - German Chancellor Angela ...     worldnews 2017-10-07   \n",
       "1  Katie Couric is a wolf in sheep s clothing. Da...     left-news 2017-07-22   \n",
       "2  New documents appear to show a pattern of dete...      politics 2015-10-19   \n",
       "3  Former  American Idol  finalist and  Celebrity...          News 2017-08-16   \n",
       "4   JACKSON, Ga. (Reuters) - Down a Georgia count...  politicsNews 2016-11-02   \n",
       "\n",
       "   label    Year     Month  \n",
       "0      0  2017.0   October  \n",
       "1      1  2017.0      July  \n",
       "2      1  2015.0   October  \n",
       "3      1  2017.0    August  \n",
       "4      0  2016.0  November  "
      ]
     },
     "execution_count": 37,
     "metadata": {},
     "output_type": "execute_result"
    }
   ],
   "source": [
    "# Convert the 'date' column to datetime format\n",
    "\n",
    "df['date'] = pd.to_datetime(df['date'],format='mixed', dayfirst=True,errors='coerce')\n",
    "df['Year'] = df['date'].dt.year\n",
    "df['Month'] = df['date'].dt.month_name()\n",
    "\n",
    "df.head()\n"
   ]
  },
  {
   "cell_type": "code",
   "execution_count": 38,
   "id": "669667fe",
   "metadata": {},
   "outputs": [
    {
     "data": {
      "text/html": [
       "<div>\n",
       "<style scoped>\n",
       "    .dataframe tbody tr th:only-of-type {\n",
       "        vertical-align: middle;\n",
       "    }\n",
       "\n",
       "    .dataframe tbody tr th {\n",
       "        vertical-align: top;\n",
       "    }\n",
       "\n",
       "    .dataframe thead th {\n",
       "        text-align: right;\n",
       "    }\n",
       "</style>\n",
       "<table border=\"1\" class=\"dataframe\">\n",
       "  <thead>\n",
       "    <tr style=\"text-align: right;\">\n",
       "      <th></th>\n",
       "      <th>Title</th>\n",
       "      <th>Text</th>\n",
       "      <th>Subject</th>\n",
       "      <th>Date</th>\n",
       "      <th>Label</th>\n",
       "      <th>Year</th>\n",
       "      <th>Month</th>\n",
       "    </tr>\n",
       "  </thead>\n",
       "  <tbody>\n",
       "    <tr>\n",
       "      <th>0</th>\n",
       "      <td>Merkel, Juncker discuss Catalan crisis: EU off...</td>\n",
       "      <td>BRUSSELS (Reuters) - German Chancellor Angela ...</td>\n",
       "      <td>worldnews</td>\n",
       "      <td>2017-10-07</td>\n",
       "      <td>0</td>\n",
       "      <td>2017.0</td>\n",
       "      <td>October</td>\n",
       "    </tr>\n",
       "    <tr>\n",
       "      <th>1</th>\n",
       "      <td>LIBERAL HACK KATIE COURIC Says Fake News Is “T...</td>\n",
       "      <td>Katie Couric is a wolf in sheep s clothing. Da...</td>\n",
       "      <td>left-news</td>\n",
       "      <td>2017-07-22</td>\n",
       "      <td>1</td>\n",
       "      <td>2017.0</td>\n",
       "      <td>July</td>\n",
       "    </tr>\n",
       "    <tr>\n",
       "      <th>2</th>\n",
       "      <td>TRUMP WAS RIGHT! Audit Reveals State Dept. Cyb...</td>\n",
       "      <td>New documents appear to show a pattern of dete...</td>\n",
       "      <td>politics</td>\n",
       "      <td>2015-10-19</td>\n",
       "      <td>1</td>\n",
       "      <td>2015.0</td>\n",
       "      <td>October</td>\n",
       "    </tr>\n",
       "    <tr>\n",
       "      <th>3</th>\n",
       "      <td>Clay Aiken Says He Was A ‘F*****g Dumbass’ Fo...</td>\n",
       "      <td>Former  American Idol  finalist and  Celebrity...</td>\n",
       "      <td>News</td>\n",
       "      <td>2017-08-16</td>\n",
       "      <td>1</td>\n",
       "      <td>2017.0</td>\n",
       "      <td>August</td>\n",
       "    </tr>\n",
       "    <tr>\n",
       "      <th>4</th>\n",
       "      <td>U.S. militia girds for trouble as presidential...</td>\n",
       "      <td>JACKSON, Ga. (Reuters) - Down a Georgia count...</td>\n",
       "      <td>politicsNews</td>\n",
       "      <td>2016-11-02</td>\n",
       "      <td>0</td>\n",
       "      <td>2016.0</td>\n",
       "      <td>November</td>\n",
       "    </tr>\n",
       "  </tbody>\n",
       "</table>\n",
       "</div>"
      ],
      "text/plain": [
       "                                               Title  \\\n",
       "0  Merkel, Juncker discuss Catalan crisis: EU off...   \n",
       "1  LIBERAL HACK KATIE COURIC Says Fake News Is “T...   \n",
       "2  TRUMP WAS RIGHT! Audit Reveals State Dept. Cyb...   \n",
       "3   Clay Aiken Says He Was A ‘F*****g Dumbass’ Fo...   \n",
       "4  U.S. militia girds for trouble as presidential...   \n",
       "\n",
       "                                                Text       Subject       Date  \\\n",
       "0  BRUSSELS (Reuters) - German Chancellor Angela ...     worldnews 2017-10-07   \n",
       "1  Katie Couric is a wolf in sheep s clothing. Da...     left-news 2017-07-22   \n",
       "2  New documents appear to show a pattern of dete...      politics 2015-10-19   \n",
       "3  Former  American Idol  finalist and  Celebrity...          News 2017-08-16   \n",
       "4   JACKSON, Ga. (Reuters) - Down a Georgia count...  politicsNews 2016-11-02   \n",
       "\n",
       "   Label    Year     Month  \n",
       "0      0  2017.0   October  \n",
       "1      1  2017.0      July  \n",
       "2      1  2015.0   October  \n",
       "3      1  2017.0    August  \n",
       "4      0  2016.0  November  "
      ]
     },
     "execution_count": 38,
     "metadata": {},
     "output_type": "execute_result"
    }
   ],
   "source": [
    "df.columns = df.columns.str.replace('_', ' ').str.title()\n",
    "df.head()"
   ]
  },
  {
   "cell_type": "code",
   "execution_count": 39,
   "id": "a72e980b",
   "metadata": {},
   "outputs": [],
   "source": [
    "# Cleaning text using regex\n",
    "\n",
    "stopword = set(stopwords.words('english'))\n",
    "stemmer = PorterStemmer()\n",
    "\n",
    "def clean(text):\n",
    "    text = str(text).lower()\n",
    "    text = re.sub('\\[.*?\\]', '', text)\n",
    "    text = re.sub('https?://\\S+|www\\.\\S+', '', text)\n",
    "    text = re.sub('<.*?>+', '', text)\n",
    "    text = re.sub('[%s]' % re.escape(string.punctuation), '', text)\n",
    "    text = re.sub('\\n', '', text)\n",
    "    text = re.sub('\\w*\\d\\w*', '', text)\n",
    "    text = [word for word in text.split(' ') if word not in stopword]\n",
    "    text = [stemmer.stem(word) for word in text]\n",
    "    text = \" \".join(text)\n",
    "    return text\n",
    "\n",
    "df['Text'] = df['Text'].apply(lambda x: clean(x))\n",
    "df['Title'] = df['Title'].apply(lambda x: clean(x))\n"
   ]
  },
  {
   "cell_type": "code",
   "execution_count": 41,
   "id": "93908a90",
   "metadata": {},
   "outputs": [],
   "source": [
    "# Handle missing values in the 'Text' column\n",
    "df['Text'] = df['Text'].fillna('')"
   ]
  },
  {
   "cell_type": "code",
   "execution_count": 42,
   "id": "e9e238dd",
   "metadata": {},
   "outputs": [
    {
     "data": {
      "text/html": [
       "<div>\n",
       "<style scoped>\n",
       "    .dataframe tbody tr th:only-of-type {\n",
       "        vertical-align: middle;\n",
       "    }\n",
       "\n",
       "    .dataframe tbody tr th {\n",
       "        vertical-align: top;\n",
       "    }\n",
       "\n",
       "    .dataframe thead th {\n",
       "        text-align: right;\n",
       "    }\n",
       "</style>\n",
       "<table border=\"1\" class=\"dataframe\">\n",
       "  <thead>\n",
       "    <tr style=\"text-align: right;\">\n",
       "      <th></th>\n",
       "      <th>Title</th>\n",
       "      <th>Text</th>\n",
       "      <th>Subject</th>\n",
       "      <th>Date</th>\n",
       "      <th>Label</th>\n",
       "      <th>Year</th>\n",
       "      <th>Month</th>\n",
       "    </tr>\n",
       "  </thead>\n",
       "  <tbody>\n",
       "    <tr>\n",
       "      <th>0</th>\n",
       "      <td>merkel juncker discuss catalan crisi eu offici</td>\n",
       "      <td>brussel reuter  german chancellor angela merke...</td>\n",
       "      <td>worldnews</td>\n",
       "      <td>2017-10-07</td>\n",
       "      <td>0</td>\n",
       "      <td>2017.0</td>\n",
       "      <td>October</td>\n",
       "    </tr>\n",
       "    <tr>\n",
       "      <th>1</th>\n",
       "      <td>liber hack kati couric say fake news “tear  ap...</td>\n",
       "      <td>kati couric wolf sheep cloth dan rather brian ...</td>\n",
       "      <td>left-news</td>\n",
       "      <td>2017-07-22</td>\n",
       "      <td>1</td>\n",
       "      <td>2017.0</td>\n",
       "      <td>July</td>\n",
       "    </tr>\n",
       "    <tr>\n",
       "      <th>2</th>\n",
       "      <td>trump right audit reveal state dept cybersecur...</td>\n",
       "      <td>new document appear show pattern deterior secu...</td>\n",
       "      <td>politics</td>\n",
       "      <td>2015-10-19</td>\n",
       "      <td>1</td>\n",
       "      <td>2015.0</td>\n",
       "      <td>October</td>\n",
       "    </tr>\n",
       "    <tr>\n",
       "      <th>3</th>\n",
       "      <td>clay aiken say ‘fg dumbass’ think trump wasn’...</td>\n",
       "      <td>former  american idol  finalist  celebr appren...</td>\n",
       "      <td>News</td>\n",
       "      <td>2017-08-16</td>\n",
       "      <td>1</td>\n",
       "      <td>2017.0</td>\n",
       "      <td>August</td>\n",
       "    </tr>\n",
       "    <tr>\n",
       "      <th>4</th>\n",
       "      <td>us militia gird troubl presidenti elect near</td>\n",
       "      <td>jackson ga reuter  georgia countri road camou...</td>\n",
       "      <td>politicsNews</td>\n",
       "      <td>2016-11-02</td>\n",
       "      <td>0</td>\n",
       "      <td>2016.0</td>\n",
       "      <td>November</td>\n",
       "    </tr>\n",
       "  </tbody>\n",
       "</table>\n",
       "</div>"
      ],
      "text/plain": [
       "                                               Title  \\\n",
       "0     merkel juncker discuss catalan crisi eu offici   \n",
       "1  liber hack kati couric say fake news “tear  ap...   \n",
       "2  trump right audit reveal state dept cybersecur...   \n",
       "3   clay aiken say ‘fg dumbass’ think trump wasn’...   \n",
       "4       us militia gird troubl presidenti elect near   \n",
       "\n",
       "                                                Text       Subject       Date  \\\n",
       "0  brussel reuter  german chancellor angela merke...     worldnews 2017-10-07   \n",
       "1  kati couric wolf sheep cloth dan rather brian ...     left-news 2017-07-22   \n",
       "2  new document appear show pattern deterior secu...      politics 2015-10-19   \n",
       "3  former  american idol  finalist  celebr appren...          News 2017-08-16   \n",
       "4   jackson ga reuter  georgia countri road camou...  politicsNews 2016-11-02   \n",
       "\n",
       "   Label    Year     Month  \n",
       "0      0  2017.0   October  \n",
       "1      1  2017.0      July  \n",
       "2      1  2015.0   October  \n",
       "3      1  2017.0    August  \n",
       "4      0  2016.0  November  "
      ]
     },
     "execution_count": 42,
     "metadata": {},
     "output_type": "execute_result"
    }
   ],
   "source": [
    "df.head()"
   ]
  },
  {
   "cell_type": "code",
   "execution_count": 43,
   "id": "0649d48e",
   "metadata": {},
   "outputs": [],
   "source": [
    "# save the cleaned data\n",
    "df.to_csv('../data/cleaned_data.csv', index=False)\n"
   ]
  },
  {
   "cell_type": "markdown",
   "id": "42f78583",
   "metadata": {},
   "source": [
    "### We can now proceed to data analysis."
   ]
  },
  {
   "cell_type": "markdown",
   "id": "4b973512",
   "metadata": {},
   "source": []
  }
 ],
 "metadata": {
  "kernelspec": {
   "display_name": "Python 3",
   "language": "python",
   "name": "python3"
  },
  "language_info": {
   "codemirror_mode": {
    "name": "ipython",
    "version": 3
   },
   "file_extension": ".py",
   "mimetype": "text/x-python",
   "name": "python",
   "nbconvert_exporter": "python",
   "pygments_lexer": "ipython3",
   "version": "3.11.9"
  }
 },
 "nbformat": 4,
 "nbformat_minor": 5
}
